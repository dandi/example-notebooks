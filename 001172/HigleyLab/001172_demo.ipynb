{
 "cells": [
  {
   "cell_type": "markdown",
   "id": "6242b563-faf9-411b-b61e-ff6d5d802609",
   "metadata": {},
   "source": [
    "# Tutorial for Dual-color mesoscopic imaging of both ACh and calcium across the neocortex of awake mice.\n",
    "\n",
    "This tutorial shows how to access the data related to [DANDI:001172](https://dandiarchive.org/dandiset/001172/draft) using `pynwb`. \n",
    "\n",
    "Contents:\n",
    "\n",
    "- [Streaming an NWB file](#stream-nwb)\n",
    "- [Reading an NWB file](#read-nwb)\n",
    "- [Access Subject and Session metadata](#access-subject)\n",
    "- [Access Raw Imaging](#access-raw-imaging)\n",
    "- [Access Processed Imaging](#access-raw-imaging)\n",
    "- [Access Processed Behavior](#access-facemap)\n",
    "- [Access Visual Stimuli](#access-visual)\n",
    "- [Access Wheel Signal](#access-wheel)"
   ]
  },
  {
   "metadata": {},
   "cell_type": "markdown",
   "source": "# Select the subject and session you want to load",
   "id": "45b8784857f90cc3"
  },
  {
   "metadata": {},
   "cell_type": "code",
   "source": [
    "subject_id = \"grabAM05\"\n",
    "session_id = \"11252019-vis-stim\"\n",
    "nwbfile_path = f\"sub-{subject_id}/sub-{subject_id}_ses-{session_id}_behavior+image+ophys.nwb\""
   ],
   "id": "15fac2a0f52cac67",
   "outputs": [],
   "execution_count": null
  },
  {
   "metadata": {},
   "cell_type": "markdown",
   "source": [
    "# Streaming an NWB file <a id=\"stream-nwb\"></a>\n",
    "\n",
    "This section demonstrates how to access the files on the [DANDI Archive](https://dandiarchive.org) without downloading them. Based on the [Streaming NWB files](https://pynwb.readthedocs.io/en/stable/tutorials/advanced_io/streaming.html) tutorial from [PyNWB](https://pynwb.readthedocs.io/en/stable/#).\n",
    "\n",
    "The `dandi.dandiapi.DandiAPIClient` can be used to get the S3 URL of the NWB file stored in the DANDI Archive."
   ],
   "id": "394331a1c951ecd3"
  },
  {
   "metadata": {},
   "cell_type": "code",
   "source": [
    "from dandi.dandiapi import DandiAPIClient\n",
    "\n",
    "dandiset_id = \"001172\"\n",
    "\n",
    "with DandiAPIClient() as client:\n",
    "    client.dandi_authenticate() #This line is necessary because the dataset is in embargoed mode and only owners can view the data, once it will be published this line can be removed.\n",
    "    asset = client.get_dandiset(dandiset_id, 'draft').get_asset_by_path(nwbfile_path)\n",
    "    s3_url = asset.get_content_url(follow_redirects=1, strip_query=False)\n"
   ],
   "id": "3824ea857ca945be",
   "outputs": [],
   "execution_count": null
  },
  {
   "metadata": {},
   "cell_type": "markdown",
   "source": "We will use `remfile` for streaming the file. You can read more about `remfile` at [this tutorial section](https://pynwb.readthedocs.io/en/stable/tutorials/advanced_io/streaming.html#method-3-remfile).",
   "id": "a6e110b429353677"
  },
  {
   "metadata": {},
   "cell_type": "code",
   "source": [
    "import h5py\n",
    "import remfile\n",
    "\n",
    "file = remfile.File(s3_url)\n",
    "h5_file = h5py.File(file, \"r\")"
   ],
   "id": "3baa58089d35d72",
   "outputs": [],
   "execution_count": null
  },
  {
   "cell_type": "markdown",
   "id": "6bc8942c-2b51-4bd9-9e87-51cdd58f25ef",
   "metadata": {},
   "source": [
    "# Reading an NWB file <a name=\"read-nwb\"></a>\n",
    "\n",
    "This section demonstrates how to read an NWB file using `pynwb`.\n",
    "\n",
    "Based on the [NWB File Basics](https://pynwb.readthedocs.io/en/stable/tutorials/general/plot_file.html#sphx-glr-tutorials-general-plot-file-py) tutorial from [PyNWB](https://pynwb.readthedocs.io/en/stable/#).\n",
    "\n",
    "An [NWBFile](https://pynwb.readthedocs.io/en/stable/pynwb.file.html#pynwb.file.NWBFile) represents a single session of an experiment. Each NWBFile must have a `session description`, `identifier`, and `session start time`.\n",
    "\n",
    "Reading is carried out using the [NWBHDF5IO](https://pynwb.readthedocs.io/en/stable/pynwb.html#pynwb.NWBHDF5IO) class. To read the NWB file use the read mode (\"r\") to retrieve an NWBFile object.\n"
   ]
  },
  {
   "cell_type": "code",
   "id": "b2968627-3cdd-4c65-825c-4e239cf9a5ea",
   "metadata": {},
   "source": [
    "from pynwb import NWBHDF5IO\n",
    "io = NWBHDF5IO(file=h5_file, load_namespaces=True)\n",
    "nwbfile = io.read()\n",
    "nwbfile"
   ],
   "outputs": [],
   "execution_count": null
  },
  {
   "cell_type": "markdown",
   "id": "8b25d9c7-83c0-4992-8bb5-2548f08bb28a",
   "metadata": {},
   "source": [
    "Importantly, the `session start time` is the reference time for all timestamps in the file. For instance, an event with a timestamp of 0 in the file means the event occurred exactly at the session start time.\n",
    "\n",
    "The `session_start_time` is extracted from all_sessions.Session datajoint table."
   ]
  },
  {
   "cell_type": "code",
   "id": "52016578-44c1-4a75-b615-ec85d8463c4a",
   "metadata": {},
   "source": [
    "nwbfile.session_start_time"
   ],
   "outputs": [],
   "execution_count": null
  },
  {
   "metadata": {},
   "cell_type": "markdown",
   "source": "The experiment description or the session description can be easily access with `nwbfile.experiment_description` and `nwbfile.session_description` ",
   "id": "8e95535a88b1b046"
  },
  {
   "metadata": {},
   "cell_type": "code",
   "source": "print(nwbfile.experiment_description)",
   "id": "92650055f9f32652",
   "outputs": [],
   "execution_count": null
  },
  {
   "metadata": {},
   "cell_type": "code",
   "source": "print(nwbfile.session_description)",
   "id": "ecfbc9a8f261aa82",
   "outputs": [],
   "execution_count": null
  },
  {
   "cell_type": "markdown",
   "id": "8d247090-5cfb-47b1-a1a4-8a7c87921a38",
   "metadata": {},
   "source": [
    "# Access subject <a name=\"access-subject\"></a>\n",
    "\n",
    "This section demonstrates how to access the [Subject](https://pynwb.readthedocs.io/en/stable/pynwb.file.html#pynwb.file.Subject) field in an NWB file.\n",
    "\n",
    "The [Subject](https://pynwb.readthedocs.io/en/stable/pynwb.file.html#pynwb.file.Subject) field can be accessed as `nwbfile.subject`.\n"
   ]
  },
  {
   "cell_type": "code",
   "id": "483b9a74-c5f0-4f59-b422-1a3a7a9c5002",
   "metadata": {},
   "source": [
    "nwbfile.subject"
   ],
   "outputs": [],
   "execution_count": null
  },
  {
   "cell_type": "markdown",
   "id": "fdc72048-3dc7-4b35-a411-e5507176ef35",
   "metadata": {},
   "source": [
    "# Access OnePhoton Imaging\n",
    "\n",
    "This section demonstrates how to access the raw One Photon imaging data.\n",
    "\n",
    "`NWB` organizes data into different groups depending on the type of data. Groups can be thought of as folders within the file. Here are some of the groups within an NWBFile and the types of data they are intended to store:\n",
    "\n",
    "- `acquisition`: raw, acquired data that should never change\n",
    "- `processing`: processed data, typically the results of preprocessing algorithms and could change\n",
    "\n",
    "## Raw OnePhoton Imaging <a name=\"access-raw-imaging\"></a>\n",
    "\n",
    "The raw OnePhoton imaging data is stored in `pynwb.ophys.OnePhotonSeries` objects (for each channel and plane separately) which is added to `nwbfile.acquisition`.\n",
    "\n",
    "The data in [OnePhotonSeries](https://pynwb.readthedocs.io/en/stable/pynwb.ophys.html#pynwb.ophys.OnePhotonSeries) is stored as a three dimensional array: the first dimension is time (frame), the second and third dimensions represent x and y (width by height). "
   ]
  },
  {
   "cell_type": "code",
   "id": "7f95b465",
   "metadata": {},
   "source": [
    "photon_series_names = [photon_series_name for photon_series_name in nwbfile.acquisition.keys() if \"OnePhotonSeries\" in photon_series_name]\n",
    "print(photon_series_names)"
   ],
   "outputs": [],
   "execution_count": null
  },
  {
   "cell_type": "code",
   "id": "1ef00fe3-cb56-4efe-89bb-946bb9bc42b5",
   "metadata": {},
   "source": [
    "# Visualize the imaging data.\n",
    "from matplotlib import pyplot as plt\n",
    "fig, axs = plt.subplots(nrows=len(photon_series_names), ncols=1, sharex=True, sharey=True)\n",
    "for ps_index,ps_name in enumerate(photon_series_names):    \n",
    "    photon_series = nwbfile.acquisition[ps_name]\n",
    "    axs[ps_index].imshow(photon_series.data[70], cmap=\"binary\")\n",
    "    axs[ps_index].set_title(ps_name.replace(\"_\",\" \"))\n",
    "plt.show()\n"
   ],
   "outputs": [],
   "execution_count": null
  },
  {
   "metadata": {},
   "cell_type": "markdown",
   "source": "Imaging metadata include information on the **device** used to acquire the image and the **optical channel** specs contained in the imaging plane object",
   "id": "c71683be17183f44"
  },
  {
   "metadata": {},
   "cell_type": "code",
   "source": "nwbfile.devices[\"OnePhotonMicroscope\"]",
   "id": "cbe2cadedef5829b",
   "outputs": [],
   "execution_count": null
  },
  {
   "metadata": {},
   "cell_type": "code",
   "source": [
    "imaging_planes_names = [imaging_planes_name for imaging_planes_name in nwbfile.imaging_planes.keys()]\n",
    "print(imaging_planes_names)\n",
    "nwbfile.imaging_planes[imaging_planes_names[0]]"
   ],
   "id": "d12c7cd5f9c31c24",
   "outputs": [],
   "execution_count": null
  },
  {
   "cell_type": "markdown",
   "id": "087d0ef1-a474-48fc-9106-3a80a188834a",
   "metadata": {},
   "source": [
    "## Accessing the segmentation data\n",
    "\n",
    "The segmentation output for the Two Photon Imaging data is stored in `nwbfile.processing[\"ophys\"]`. \n",
    "\n",
    "In NWB, the [PlaneSegmentation](https://pynwb.readthedocs.io/en/stable/pynwb.ophys.html#pynwb.ophys.PlaneSegmentation) class stores the detected regions of interest in the [OnePhotonSeries](https://pynwb.readthedocs.io/en/stable/pynwb.ophys.html#pynwb.ophys.OnePhotonSeries) data. The [ImageSegmentation](https://pynwb.readthedocs.io/en/stable/pynwb.ophys.html#pynwb.ophys.ImageSegmentation) can contain multiple `PlaneSegmentation` tables, so that we can store results of different segmentation algorithms or different segmentation classes.\n",
    "\n",
    "We can access the plane segmentation for the [OnePhotonSeries](https://pynwb.readthedocs.io/en/stable/pynwb.ophys.html#pynwb.ophys.OnePhotonSeries) data as \n",
    "`nwbfile.processing[\"ophys\"][\"ImageSegmentation\"][\"PlaneSegmentationChannel_number_Plane_number_\"]`.\n"
   ]
  },
  {
   "metadata": {},
   "cell_type": "code",
   "source": "nwbfile.processing[\"ophys\"]",
   "id": "178571ee71b07c01",
   "outputs": [],
   "execution_count": null
  },
  {
   "metadata": {},
   "cell_type": "markdown",
   "source": "## Access DF/F one photon series",
   "id": "7a3b31abd218f36"
  },
  {
   "metadata": {},
   "cell_type": "code",
   "source": [
    "dff_photon_series_names = [dff_photon_series_name for dff_photon_series_name in nwbfile.processing[\"ophys\"].data_interfaces if \"DFFOnePhotonSeries\" in dff_photon_series_name]\n",
    "print(dff_photon_series_names)"
   ],
   "id": "3baddca1a136f778",
   "outputs": [],
   "execution_count": null
  },
  {
   "metadata": {},
   "cell_type": "code",
   "source": [
    "import numpy as np\n",
    "fig, axs = plt.subplots(nrows=len(dff_photon_series_names), ncols=1, sharex=True, sharey=True)\n",
    "for ps_index,ps_name in enumerate(dff_photon_series_names):    \n",
    "    dff_photon_series = nwbfile.processing[\"ophys\"][ps_name]\n",
    "    data = dff_photon_series.data[:]\n",
    "    data[data == 0] = np.nan\n",
    "    axs[ps_index].imshow(data[70], vmin=-0.01, cmap=\"binary\")\n",
    "    axs[ps_index].set_title(ps_name.replace(\"_\",\" \"))\n",
    "plt.show()"
   ],
   "id": "7a88cd2c4d394176",
   "outputs": [],
   "execution_count": null
  },
  {
   "metadata": {},
   "cell_type": "markdown",
   "source": "#### Plot Image Segmentation: Functional Parcellation",
   "id": "e001e7a7843982a7"
  },
  {
   "metadata": {},
   "cell_type": "code",
   "source": [
    "plane_segmentation_names = list(nwbfile.processing[\"ophys\"][\"ImageSegmentation\"].plane_segmentations.keys())\n",
    "_ = [print(name) for name in nwbfile.processing[\"ophys\"][\"ImageSegmentation\"].plane_segmentations.keys()]"
   ],
   "id": "60befc574ae2e6ea",
   "outputs": [],
   "execution_count": null
  },
  {
   "metadata": {},
   "cell_type": "code",
   "source": [
    "import numpy as np\n",
    "from matplotlib.colors import ListedColormap\n",
    "import random\n",
    "\n",
    "photon_series = nwbfile.acquisition[\"OnePhotonSeriesBlueExcitationGreenChannel\"]\n",
    "plane_seg_name = plane_segmentation_names[0]\n",
    "fig, ax = plt.subplots(nrows=1, ncols=1, sharex=True, sharey=True)   \n",
    "plane_segmentation = nwbfile.processing[\"ophys\"][\"ImageSegmentation\"].plane_segmentations[plane_seg_name]\n",
    "for image_mask in plane_segmentation.image_mask:\n",
    "    random_color = [random.random() for _ in range(3)] + [1]\n",
    "    custom_cmap = ListedColormap([[0, 0, 0, 0], random_color])\n",
    "    ax.imshow(image_mask.T, aspect=\"auto\", cmap=custom_cmap)\n",
    "ax.set_title(plane_seg_name)\n",
    "plt.show()"
   ],
   "id": "71d7c0d89e7377",
   "outputs": [],
   "execution_count": null
  },
  {
   "metadata": {},
   "cell_type": "markdown",
   "source": [
    "## Visualize fluorescence traces\n",
    "The fluorescence traces are stored in a [Fluorescence](https://pynwb.readthedocs.io/en/stable/pynwb.ophys.html#pynwb.ophys.Fluorescence) container, the raw traces can be accessed as `nwbfile.processing[\"ophys\"][\"Fluorescence\"][\"RoiResponseSeries\"]`."
   ],
   "id": "291ad594-cced-46c1-80aa-3c3c13cc9d7c"
  },
  {
   "metadata": {},
   "cell_type": "code",
   "source": [
    "import pandas as pd\n",
    "import warnings\n",
    "warnings.simplefilter(action='ignore', category=pd.errors.PerformanceWarning)\n",
    "\n",
    "fluorescence_traces_names = [name for name in nwbfile.processing[\"ophys\"][\"Fluorescence\"].roi_response_series.keys()]\n",
    "\n",
    "fluorescence_traces_name = fluorescence_traces_names[0]\n",
    "start_index = 0\n",
    "stop_index = -1\n",
    "\n",
    "fluorescence_rate = nwbfile.processing[\"ophys\"][\"Fluorescence\"][fluorescence_traces_name].rate\n",
    "fluorescence_starting_time = nwbfile.processing[\"ophys\"][\"Fluorescence\"][fluorescence_traces_name].starting_time\n",
    "start_time =fluorescence_starting_time + start_index*fluorescence_rate\n",
    "stop_time = fluorescence_starting_time + stop_index*fluorescence_rate\n",
    "\n",
    "fluorescence_traces = nwbfile.processing[\"ophys\"][\"Fluorescence\"][fluorescence_traces_name].data[:, :10]\n",
    "\n",
    "df = pd.DataFrame(fluorescence_traces)\n",
    "df[\"time\"] = np.linspace(start_time, stop_time, fluorescence_traces.shape[0])\n",
    "df.set_index(\"time\", inplace=True)\n",
    "df.columns.name = 'ROIs'\n",
    "\n",
    "import plotly.express as px\n",
    "\n",
    "fig = px.line(df, facet_row=\"ROIs\", facet_row_spacing=0.01)\n",
    "\n",
    "# hide and lock down axes\n",
    "fig.update_xaxes(visible=True, fixedrange=False)\n",
    "fig.update_yaxes(visible=False, fixedrange=False)\n",
    "\n",
    "# remove facet/subplot labels\n",
    "fig.update_layout(annotations=[], overwrite=True)\n",
    "\n",
    "# strip down the rest of the plot\n",
    "fig.update_layout(\n",
    "    showlegend=True,\n",
    "    plot_bgcolor=\"white\",\n",
    "    margin=dict(t=10, l=10, b=10, r=10)\n",
    ")\n",
    "\n",
    "fig.show(config=dict(displayModeBar=True))"
   ],
   "id": "a24dc36b-a2e5-43d1-989e-f18735c4afaa",
   "outputs": [],
   "execution_count": null
  },
  {
   "metadata": {},
   "cell_type": "markdown",
   "source": "",
   "id": "303ff5f8ef44b92c"
  },
  {
   "metadata": {},
   "cell_type": "markdown",
   "source": [
    "# Access Processed Behavior <a name=\"access-facemap\"></a>\n",
    "\n",
    "This section demonstrates how to access the face motion components, the eye tracking and pupil tracking data."
   ],
   "id": "c46286a7dd5387f"
  },
  {
   "metadata": {},
   "cell_type": "code",
   "source": "nwbfile.processing[\"behavior\"][\"EyeTracking\"]",
   "id": "5e7f9120435c26a5",
   "outputs": [],
   "execution_count": null
  },
  {
   "metadata": {},
   "cell_type": "code",
   "source": "nwbfile.processing[\"behavior\"][\"PupilTracking\"]",
   "id": "cf2985e294233259",
   "outputs": [],
   "execution_count": null
  },
  {
   "metadata": {},
   "cell_type": "code",
   "source": [
    "start_index = 0\n",
    "stop_index = 2000\n",
    "\n",
    "pupil_area_timestamps = nwbfile.processing[\"behavior\"][\"PupilTracking\"][\"pupil_area\"].timestamps[start_index:stop_index]\n",
    "pupil_area_signal = nwbfile.processing[\"behavior\"][\"PupilTracking\"][\"pupil_area\"].data[start_index:stop_index]\n",
    "\n",
    "fig, ax = plt.subplots(figsize=(6, 2), dpi=300)\n",
    "ax.plot(pupil_area_timestamps, pupil_area_signal, color=\"cyan\", linewidth=0.5, label=\"Pupil Area\")\n",
    "\n",
    "# Hide top and right spines\n",
    "ax.spines['top'].set_visible(False)\n",
    "ax.spines['right'].set_visible(False)\n",
    "\n",
    "# Create the \n",
    "ax.legend(frameon=False, bbox_to_anchor=(.95, 1), loc='upper left', prop={'size': 8})\n",
    "\n",
    "ax.tick_params(axis='y', labelsize=8)\n",
    "plt.xlabel('Time (s)', fontsize=8)\n",
    "plt.tick_params(axis='x', labelsize=8)\n",
    "plt.show()"
   ],
   "id": "23abcc4c48a23669",
   "outputs": [],
   "execution_count": null
  },
  {
   "metadata": {},
   "cell_type": "code",
   "source": [
    "motion_svd_series = nwbfile.processing[\"behavior\"][\"MotionSVDSeriesWhiskers\"]\n",
    "motion_svd_series"
   ],
   "id": "aca52923a36a1d77",
   "outputs": [],
   "execution_count": null
  },
  {
   "metadata": {},
   "cell_type": "code",
   "source": [
    "motion_svd_masks = nwbfile.processing[\"behavior\"][\"MotionSVDMasksWhiskers\"]\n",
    "motion_svd_masks"
   ],
   "id": "c595e6d6f036955f",
   "outputs": [],
   "execution_count": null
  },
  {
   "metadata": {},
   "cell_type": "code",
   "source": [
    "n_components_to_visualize = 5\n",
    "start_index = 0\n",
    "stop_index = 100\n",
    "fig, ax = plt.subplots(nrows=n_components_to_visualize, ncols=2, dpi=300)\n",
    "for i in range(n_components_to_visualize):\n",
    "    mask =np.array(motion_svd_masks[i].image_mask[i])\n",
    "    ax[i, 0].imshow(mask, cmap=\"binary\")\n",
    "    ax[i, 0].set_axis_off()\n",
    "    series = motion_svd_series.data[start_index:stop_index,i]\n",
    "    timestamps = motion_svd_series.timestamps[start_index:stop_index]\n",
    "    ax[i,1].plot(timestamps, series)"
   ],
   "id": "1d8581f60645be92",
   "outputs": [],
   "execution_count": null
  },
  {
   "cell_type": "markdown",
   "id": "ce538054-666b-4ad1-9d34-f9730973b3ff",
   "metadata": {},
   "source": [
    "# Access Visual Stimulus, Wheel Activation or Airpuff tables <a name=\"access-visual\"></a>\n",
    "\n",
    "This section demonstrates how to access the visual stimulus or wheel activation or airpuff data.\n"
   ]
  },
  {
   "cell_type": "code",
   "id": "6c899439-be9f-4187-bc02-b6c9cb2491c3",
   "metadata": {},
   "source": [
    "table_object_type = \"VisualStimulus\" # \"VisualStimulus\" \"Airpuff\" \"WheelActivation\"\n",
    "table_object = nwbfile.intervals[table_object_type].to_dataframe()\n",
    "table_object"
   ],
   "outputs": [],
   "execution_count": null
  },
  {
   "cell_type": "code",
   "id": "3f232537",
   "metadata": {},
   "source": [
    "start_index = 0\n",
    "stop_index = 1000\n",
    "\n",
    "fluorescence_rate = nwbfile.processing[\"ophys\"][\"Fluorescence\"][fluorescence_traces_name].rate\n",
    "fluorescence_starting_time = nwbfile.processing[\"ophys\"][\"Fluorescence\"][fluorescence_traces_name].starting_time\n",
    "start_time =fluorescence_starting_time + start_index/fluorescence_rate\n",
    "stop_time = fluorescence_starting_time + stop_index/fluorescence_rate\n",
    "\n",
    "ROI_index=22\n",
    "fluorescence_data = nwbfile.processing[\"ophys\"][\"Fluorescence\"][fluorescence_traces_name].data[:, ROI_index]\n",
    "fluorescence_timestamps = np.linspace(start_time, stop_time, fluorescence_data.shape[0])\n",
    "\n",
    "fig, ax = plt.subplots(figsize=(6, 2), dpi=300)\n",
    "line_handle, = ax.plot(fluorescence_timestamps, fluorescence_data, color=\"green\", linewidth=0.5, label=f\"ROI {ROI_index}\".format(ROI_index=ROI_index))\n",
    "\n",
    "handles = []\n",
    "for (stimulus_start, stimulus_stop) in zip(table_object[\"start_time\"], table_object[\"stop_time\"]):\n",
    "    handle = ax.fill_between(fluorescence_timestamps, np.nanmax(fluorescence_data), where=(fluorescence_timestamps >= stimulus_start) & (fluorescence_timestamps <= stimulus_stop),color='yellow', edgecolor='none', alpha=0.9, label=table_object_type)\n",
    "    handles.append(handle)\n",
    "\n",
    "# Hide top and right spines\n",
    "ax.spines['top'].set_visible(False)\n",
    "ax.spines['right'].set_visible(False)\n",
    "\n",
    "# Create the legend with the appropriate handles\n",
    "handles = [line_handle, handles[0]]\n",
    "labels = [f\"ROI {ROI_index}\".format(ROI_index=ROI_index), table_object_type]\n",
    "ax.legend(handles, labels, frameon=False, bbox_to_anchor=(.95, 1), loc='upper left', prop={'size': 8})\n",
    "\n",
    "ax.tick_params(axis='y', labelsize=8)\n",
    "plt.xlabel('Time (s)', fontsize=8)\n",
    "plt.tick_params(axis='x', labelsize=8)\n",
    "plt.show()"
   ],
   "outputs": [],
   "execution_count": null
  },
  {
   "cell_type": "markdown",
   "id": "b50a377e",
   "metadata": {},
   "source": [
    "# Access Wheel Signal and Wheel Speed <a name=\"access-wheel\"></a>\n",
    "This section demonstrates how to access the raw wheel signal acquired with Spike2 and the processed wheel speed trace."
   ]
  },
  {
   "cell_type": "code",
   "id": "362ba78b",
   "metadata": {},
   "source": "nwbfile.acquisition[\"WheelSignal\"]",
   "outputs": [],
   "execution_count": null
  },
  {
   "metadata": {},
   "cell_type": "code",
   "source": [
    "start_index = 0\n",
    "stop_index = 200000\n",
    "\n",
    "wheel_signal_rate = nwbfile.acquisition[\"WheelSignal\"].rate\n",
    "wheel_signal_starting_time = nwbfile.acquisition[\"WheelSignal\"].starting_time\n",
    "start_time = wheel_signal_starting_time + start_index/wheel_signal_rate\n",
    "stop_time = wheel_signal_starting_time + stop_index/wheel_signal_rate\n",
    "\n",
    "wheel_signal = nwbfile.acquisition[\"WheelSignal\"].data[start_index:stop_index]\n",
    "wheel_signal_timestamps = np.linspace(start_time, stop_time, wheel_signal.shape[0])\n",
    "\n",
    "fig, ax = plt.subplots(figsize=(6, 2), dpi=300)\n",
    "ax.plot(wheel_signal_timestamps, wheel_signal, color=\"red\", linewidth=0.5, label=\"Wheel Signal\")\n",
    "\n",
    "# Hide top and right spines\n",
    "ax.spines['top'].set_visible(False)\n",
    "ax.spines['right'].set_visible(False)\n",
    "\n",
    "# Create the \n",
    "ax.legend(frameon=False, bbox_to_anchor=(.95, 1), loc='upper left', prop={'size': 8})\n",
    "\n",
    "ax.tick_params(axis='y', labelsize=8)\n",
    "plt.xlabel('Time (s)', fontsize=8)\n",
    "plt.tick_params(axis='x', labelsize=8)\n",
    "plt.show()"
   ],
   "id": "a7837b0f245a9b9e",
   "outputs": [],
   "execution_count": null
  },
  {
   "metadata": {},
   "cell_type": "code",
   "source": "nwbfile.processing[\"behavior\"][\"WheelSpeed\"]",
   "id": "33a5216afd06bfa9",
   "outputs": [],
   "execution_count": null
  },
  {
   "metadata": {},
   "cell_type": "code",
   "source": [
    "start_index = 0\n",
    "stop_index = 200000\n",
    "\n",
    "wheel_speed_rate = nwbfile.processing[\"behavior\"][\"WheelSpeed\"].rate\n",
    "wheel_speed_starting_time = nwbfile.processing[\"behavior\"][\"WheelSpeed\"].starting_time\n",
    "start_time = wheel_speed_starting_time + start_index/wheel_speed_rate\n",
    "stop_time = wheel_speed_starting_time + stop_index/wheel_speed_rate\n",
    "\n",
    "wheel_speed = nwbfile.processing[\"behavior\"][\"WheelSpeed\"].data[start_index:stop_index]\n",
    "wheel_speed_timestamps = np.linspace(start_time, stop_time, wheel_speed.shape[0])\n",
    "\n",
    "fig, ax = plt.subplots(figsize=(6, 2), dpi=300)\n",
    "ax.plot(wheel_speed_timestamps, wheel_speed, color=\"red\", linewidth=0.5, label=\"Wheel Speed\")\n",
    "\n",
    "# Hide top and right spines\n",
    "ax.spines['top'].set_visible(False)\n",
    "ax.spines['right'].set_visible(False)\n",
    "\n",
    "# Create the \n",
    "ax.legend(frameon=False, bbox_to_anchor=(.95, 1), loc='upper left', prop={'size': 8})\n",
    "\n",
    "ax.tick_params(axis='y', labelsize=8)\n",
    "plt.xlabel('Time (s)', fontsize=8)\n",
    "plt.tick_params(axis='x', labelsize=8)\n",
    "plt.show()"
   ],
   "id": "a179bf2fc6c54b39",
   "outputs": [],
   "execution_count": null
  }
 ],
 "metadata": {
  "kernelspec": {
   "display_name": "reimer_arenkiel_lab_to_nwb_env",
   "language": "python",
   "name": "reimer_arenkiel_lab_to_nwb_env"
  },
  "language_info": {
   "codemirror_mode": {
    "name": "ipython",
    "version": 3
   },
   "file_extension": ".py",
   "mimetype": "text/x-python",
   "name": "python",
   "nbconvert_exporter": "python",
   "pygments_lexer": "ipython3",
   "version": "3.10.12"
  }
 },
 "nbformat": 4,
 "nbformat_minor": 5
}
