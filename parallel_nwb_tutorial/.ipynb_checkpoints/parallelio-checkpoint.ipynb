{
 "cells": [
  {
   "cell_type": "markdown",
   "id": "325df7c8",
   "metadata": {},
   "source": [
    "### Code taken from advanced pynwb tutorial: https://pynwb.readthedocs.io/en/stable/tutorials/advanced_io/parallelio.html#sphx-glr-tutorials-advanced-io-parallelio-py"
   ]
  },
  {
   "cell_type": "code",
   "execution_count": null,
   "id": "2819a730",
   "metadata": {},
   "outputs": [],
   "source": [
    "from mpi4py import MPI\n",
    "import numpy as np\n",
    "from dateutil import tz\n",
    "from pynwb import NWBHDF5IO, NWBFile, TimeSeries\n",
    "from datetime import datetime\n",
    "from hdmf.data_utils import DataChunkIterator\n",
    "\n",
    "start_time = datetime(2018, 4, 25, 2, 30, 3, tzinfo=tz.gettz('US/Pacific'))\n",
    "fname = 'test_parallel_pynwb.nwb'\n",
    "rank = MPI.COMM_WORLD.rank  # The process ID (integer 0-3 for 4-process run)\n",
    "\n",
    "# Create file on one rank. Here we only instantiate the dataset we want to\n",
    "# write in parallel but we do not write any data\n",
    "if rank == 0:\n",
    "    nwbfile = NWBFile('aa', 'aa', start_time)\n",
    "    data = DataChunkIterator(data=None, maxshape=(4,), dtype=np.dtype('int'))\n",
    "\n",
    "    nwbfile.add_acquisition(TimeSeries('ts_name', description='desc', data=data,\n",
    "                                       rate=100., unit='m'))\n",
    "    with NWBHDF5IO(fname, 'w') as io:\n",
    "        io.write(nwbfile)\n",
    "\n",
    "# write to dataset in parallel\n",
    "with NWBHDF5IO(fname, 'a', comm=MPI.COMM_WORLD) as io:\n",
    "    nwbfile = io.read()\n",
    "    print(rank)\n",
    "    nwbfile.acquisition['ts_name'].data[rank] = rank\n",
    "\n",
    "# read from dataset in parallel\n",
    "with NWBHDF5IO(fname, 'r', comm=MPI.COMM_WORLD) as io:\n",
    "    print(io.read().acquisition['ts_name'].data[rank])"
   ]
  },
  {
   "cell_type": "markdown",
   "id": "38200725",
   "metadata": {},
   "source": [
    "### You may notice that only a single job was used here...\n",
    "### To use more, open a terminal on the DANDIHub and run\n",
    "`cd dandi-notebooks/parallel_nwb_tutorial`\n",
    "\n",
    "`jupyter nbconvert --to script parallelio.ipynb`\n",
    "\n",
    "`mpiexec -n 4 python parallelio.py`"
   ]
  },
  {
   "cell_type": "code",
   "execution_count": null,
   "id": "9ce7167d",
   "metadata": {},
   "outputs": [],
   "source": []
  }
 ],
 "metadata": {
  "kernelspec": {
   "display_name": "Python 3 (ipykernel)",
   "language": "python",
   "name": "python3"
  },
  "language_info": {
   "codemirror_mode": {
    "name": "ipython",
    "version": 3
   },
   "file_extension": ".py",
   "mimetype": "text/x-python",
   "name": "python",
   "nbconvert_exporter": "python",
   "pygments_lexer": "ipython3",
   "version": "3.7.11"
  }
 },
 "nbformat": 4,
 "nbformat_minor": 5
}
